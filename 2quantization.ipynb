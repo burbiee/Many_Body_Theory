{
 "cells": [
  {
   "cell_type": "code",
   "execution_count": 2,
   "id": "8c400f92",
   "metadata": {},
   "outputs": [
    {
     "data": {
      "text/html": [
       "<style>.container { width:100% !important; }</style>"
      ],
      "text/plain": [
       "<IPython.core.display.HTML object>"
      ]
     },
     "metadata": {},
     "output_type": "display_data"
    }
   ],
   "source": [
    "#from IPython.core.display import display, HTML\n",
    "#display(HTML(\"<style>.container { width:100% !important; }</style>\"))"
   ]
  },
  {
   "cell_type": "code",
   "execution_count": 1,
   "id": "afa19ff6",
   "metadata": {},
   "outputs": [],
   "source": [
    "%load_ext Cython"
   ]
  },
  {
   "cell_type": "code",
   "execution_count": 14,
   "id": "6544dded",
   "metadata": {},
   "outputs": [
    {
     "name": "stdout",
     "output_type": "stream",
     "text": [
      "0\n",
      "1\n",
      "1\n",
      "0\n",
      "1\n",
      "1\n",
      "0\n"
     ]
    }
   ],
   "source": [
    "%%cython\n",
    "cimport cython\n",
    "from libc.stdlib cimport malloc, free\n",
    "from cython cimport sizeof\n",
    "#import numpy as np\n",
    "#cimport numpy as np\n",
    "\n",
    "\n",
    "\n",
    "ctypedef struct f_state:\n",
    "    int* state\n",
    "    int size\n",
    "\n",
    "cdef void free_fermions(f_state fstate) nogil:\n",
    "    free(fstate.state)\n",
    "\n",
    "\n",
    "cdef f_state create_fermions(str state, int space_size):\n",
    "    cdef int* state_array = <int*>malloc(space_size*sizeof(int))\n",
    "    if state_array is NULL:\n",
    "        raise MemoryError(\"Failed to allocate memory for state_array\")\n",
    "    \n",
    "    for i in range(space_size):\n",
    "        if state[i] not in ('0', '1'):\n",
    "            raise ValueError(\"spinless fermion states can only have 1 occupation or none 0\")\n",
    "        state_array[i] = <int>state[i]-48 #minus 48 because of ascii encoding from str to int. 0 is 48 in ascii. 1 is 49\n",
    "    cdef f_state fstate\n",
    "    fstate.state = state_array\n",
    "    fstate.size = space_size\n",
    "    free(state_array)\n",
    "    return fstate\n",
    "\n",
    "cdef double* create_explicit_fermions(f_state state, int size):\n",
    "    #to be completed\n",
    "\n",
    "    \n",
    "\n",
    "\n",
    "\n",
    "\n",
    "\n",
    "\n",
    "\n",
    "\n",
    "#test unit 2\n",
    "\"\"\"\n",
    "cdef str fermions = \"0110110\"\n",
    "cdef int fsize = 7\n",
    "\n",
    "cdef f_state fermion_state = create_fermions(fermions, fsize)\n",
    "for i in range(fsize):\n",
    "    print(fermion_state.state[i])\n",
    "    \n",
    "free_fermions(fermion_state)\n",
    "\"\"\"\n",
    "\n",
    "#test unit 1\n",
    "\"\"\"\n",
    "cdef int vec1size = 3\n",
    "cdef int vec2size = 3\n",
    "cdef double* vec1 = <double*>malloc(vec1size*sizeof(double))\n",
    "cdef double* vec2 = <double*>malloc(vec2size*sizeof(double))\n",
    "vec1[0] = 1\n",
    "vec1[1] = 2\n",
    "vec1[2] = 4\n",
    "\n",
    "vec2[0] = 7\n",
    "vec2[1] = 2\n",
    "vec2[2] = 3\n",
    "\n",
    "\n",
    "cdef double* kron = kron_prod(vec1, vec2, vec1size, vec2size)\n",
    "\n",
    "prod = np.zeros(vec1size*vec2size)\n",
    "for i in range(vec1size*vec2size):\n",
    "    prod[i] = kron[i]\n",
    "    \n",
    "free(vec1)\n",
    "free(vec2)\n",
    "free(kron)\n",
    "\"\"\"\n"
   ]
  },
  {
   "cell_type": "code",
   "execution_count": 15,
   "id": "96f6310b",
   "metadata": {},
   "outputs": [
    {
     "data": {
      "text/plain": [
       "array([[1., 0., 0., 0., 0., 0., 0., 0.],\n",
       "       [0., 1., 0., 0., 0., 0., 0., 0.],\n",
       "       [0., 0., 1., 0., 0., 0., 0., 0.],\n",
       "       [0., 0., 0., 1., 0., 0., 0., 0.],\n",
       "       [0., 0., 0., 0., 1., 0., 0., 0.],\n",
       "       [0., 0., 0., 0., 0., 1., 0., 0.],\n",
       "       [0., 0., 0., 0., 0., 0., 1., 0.],\n",
       "       [0., 0., 0., 0., 0., 0., 0., 1.]])"
      ]
     },
     "execution_count": 15,
     "metadata": {},
     "output_type": "execute_result"
    }
   ],
   "source": [
    "a"
   ]
  },
  {
   "cell_type": "code",
   "execution_count": null,
   "id": "b88480fa",
   "metadata": {},
   "outputs": [],
   "source": []
  },
  {
   "cell_type": "code",
   "execution_count": null,
   "id": "e71d91c2",
   "metadata": {},
   "outputs": [],
   "source": [
    "%%cython\n",
    "cimport cython\n",
    "from libc.stdlib cimport malloc, free\n",
    "from cython cimport sizeof\n",
    "import numpy as np\n",
    "cimport numpy as np\n",
    "\n",
    "cdef double** get_basis(int nr_sites):\n",
    "    cdef double** basis\n",
    "    cdef int i,j\n",
    "    #alloc mem for outter array (rows) as pointer with sizeof(pointer to double)\n",
    "    basis = <double**>malloc((2**nr_sites)*sizeof(double*))\n",
    "    #alloc mem for inner array (cols) as pointer with sizeof(double)\n",
    "    for i in range(2**nr_sites):\n",
    "        basis[i] = <double*>malloc((2**nr_sites)*sizeof(double))\n",
    "    #initialize the elements\n",
    "    for i in range(2**nr_sites):\n",
    "        for j in range(2**nr_sites):\n",
    "            if i==j:\n",
    "                basis[i][j] = 1.\n",
    "            else:\n",
    "                basis[i][j] = 0.\n",
    "    return basis"
   ]
  }
 ],
 "metadata": {
  "kernelspec": {
   "display_name": "Python 3 (ipykernel)",
   "language": "python",
   "name": "python3"
  },
  "language_info": {
   "codemirror_mode": {
    "name": "ipython",
    "version": 3
   },
   "file_extension": ".py",
   "mimetype": "text/x-python",
   "name": "python",
   "nbconvert_exporter": "python",
   "pygments_lexer": "ipython3",
   "version": "3.10.8"
  }
 },
 "nbformat": 4,
 "nbformat_minor": 5
}
