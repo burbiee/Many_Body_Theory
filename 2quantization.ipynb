{
 "cells": [
  {
   "cell_type": "code",
   "execution_count": 1,
   "id": "8c400f92",
   "metadata": {},
   "outputs": [
    {
     "data": {
      "text/html": [
       "<style>.container { width:100% !important; }</style>"
      ],
      "text/plain": [
       "<IPython.core.display.HTML object>"
      ]
     },
     "metadata": {},
     "output_type": "display_data"
    }
   ],
   "source": [
    "from IPython.core.display import display, HTML\n",
    "display(HTML(\"<style>.container { width:100% !important; }</style>\"))"
   ]
  },
  {
   "cell_type": "code",
   "execution_count": 2,
   "id": "afa19ff6",
   "metadata": {},
   "outputs": [],
   "source": [
    "%load_ext Cython"
   ]
  },
  {
   "cell_type": "markdown",
   "id": "ec5902db",
   "metadata": {},
   "source": [
    "# Cell below for bosons"
   ]
  },
  {
   "cell_type": "code",
   "execution_count": 3,
   "id": "96f6310b",
   "metadata": {
    "scrolled": false
   },
   "outputs": [
    {
     "name": "stdout",
     "output_type": "stream",
     "text": [
      "2 1 0 0 \n",
      "state sites = 4 \n",
      "norm constant before state = 1.0\n",
      "2 1 0 -1 \n",
      "state sites = 4 \n",
      "norm constant before state = nan\n"
     ]
    }
   ],
   "source": [
    "%%cython\n",
    "cimport cython\n",
    "from libc.stdlib cimport malloc, free\n",
    "from libc.math cimport sqrt\n",
    "from cython cimport sizeof\n",
    "from itertools import combinations_with_replacement\n",
    "\n",
    "\n",
    "import numpy as np\n",
    "cimport numpy as np\n",
    "\n",
    "\n",
    "ctypedef struct bstate:\n",
    "    int* state\n",
    "    int size\n",
    "    double norm_const\n",
    "\n",
    "    \n",
    "cdef void free_bosons(bstate in_state) nogil:\n",
    "    free(in_state.state)\n",
    "\n",
    "cdef print_state(bstate instate):\n",
    "    for i in range(instate.size):\n",
    "        print(instate.state[i], end=\" \")\n",
    "    print(\"\\nstate sites =\",instate.size,\"\\nnorm constant before state =\",instate.norm_const)\n",
    "    \n",
    "    \n",
    "\n",
    "\n",
    "@cython.boundscheck(False)\n",
    "@cython.wraparound(False)\n",
    "cdef int factorial(int a) nogil:\n",
    "    if a == 0:\n",
    "        return 1\n",
    "    cdef int result, i\n",
    "    result = 1\n",
    "    for i in range(a):\n",
    "        result = result*(i+1)\n",
    "    return result\n",
    "    \n",
    "\n",
    "cdef int bosonic_basis_size(int bosons, int sites) nogil:\n",
    "    if (bosons<0) or (sites<0):\n",
    "        raise ValueError(\"negative sites or occupations\")\n",
    "    cdef int result\n",
    "    result = (factorial(bosons+sites-1))//(factorial(bosons)*factorial(sites-1))\n",
    "    return result\n",
    "\n",
    "@cython.boundscheck(False)\n",
    "@cython.wraparound(False)\n",
    "cdef bstate* ordered_basis(int bosons, int sites):\n",
    "    # Generate all possible combinations of site occupations with replacement\n",
    "    combinations = list(combinations_with_replacement(range(sites), bosons))\n",
    "\n",
    "    # Sort the combinations in lexicographic order\n",
    "    combinations = sorted(combinations)\n",
    "    cdef int length = len(combinations)\n",
    "\n",
    "    # Create basis vectors from the sorted combinations\n",
    "    cdef bstate* basis_vectors = <bstate*>malloc(length*sizeof(bstate))\n",
    "    \n",
    "    cdef int i\n",
    "    for i in range(length):\n",
    "        basis_vectors[i] = create_bosons(\"0\" * sites, sites)  # Initialize with all zeros\n",
    "        \n",
    "        for site in combinations[i]:\n",
    "            basis_vectors[i].state[site] += 1\n",
    "            #basis_vectors[i].norm_const = sqrt(<double>basis_vectors[i].state[site]) needed ???? check theory books\n",
    "    return basis_vectors\n",
    "\n",
    "\n",
    "@cython.boundscheck(False)\n",
    "@cython.wraparound(False)\n",
    "cdef bstate create_bosons(str state, int space_size):\n",
    "    cdef int* state_array = <int*>malloc(space_size*sizeof(int))\n",
    "    if state_array is NULL:\n",
    "        raise MemoryError(\"Failed to allocate memory for state_array\")\n",
    "    \n",
    "    for i in range(space_size):\n",
    "        if state[i] < 0:\n",
    "            raise ValueError(\"no negative occupation numbers for bosonic states\")\n",
    "        state_array[i] = <int>state[i]-48 #minus 48 because of ascii encoding from str to int. 0 is 48 in ascii. 1 is 49\n",
    "    cdef bstate result\n",
    "    result.state = state_array\n",
    "    result.size = space_size\n",
    "    result.norm_const = 1\n",
    "    return result\n",
    "\n",
    "    \n",
    "cdef bstate apply_creator(bstate in_state, int site) nogil:\n",
    "    #index = site-1\n",
    "    cdef bstate result\n",
    "    result = in_state\n",
    "    result.state[site-1] = in_state.state[site-1]+1\n",
    "    result.norm_const = sqrt(<double>result.state[site-1])\n",
    "    return result\n",
    "\n",
    "cdef bstate apply_annahilator(bstate in_state, int site) nogil:\n",
    "    #index = site-1\n",
    "    cdef bstate result\n",
    "    result = in_state\n",
    "    result.state[site-1] = in_state.state[site-1]-1\n",
    "    if in_state.state[site-1] == 0:\n",
    "        result.norm_const = 0.\n",
    "    else:\n",
    "        result.norm_const = sqrt(<double>in_state.state[site-1])\n",
    "    return result\n",
    "\n",
    "\n",
    "cdef bint compare_states(bstate state1, bstate state2) nogil:\n",
    "    if state1.size != state2.size:\n",
    "        raise ValueError(\"states have different number of sites. direct comparison may be illogical\")\n",
    "    cdef int i\n",
    "    cdef bint token\n",
    "    for i in range(state1.size):\n",
    "        if state1.state[i] != state2.state[i]:\n",
    "            return 0\n",
    "    return 1\n",
    "\n",
    "cdef double contract_states(bstate state1, bstate state2) nogil:\n",
    "    if compare_states(state1, state2):\n",
    "        return state1.norm_const * state2.norm_const\n",
    "\n",
    "    \n",
    "    \n",
    "\n",
    "cpdef no_interaction_boson_gas(int bosons, int sites, double eta):\n",
    "    cdef int h_size = bosonic_basis_size(bosons, sites)\n",
    "    cdef bstate* basis = ordered_basis(bosons, sites)\n",
    "    cdef int i, j, k\n",
    "    \n",
    "    cdef np.ndarray[np.double_t, ndim=2] Matrix\n",
    "    Matrix = np.zeros((h_size, h_size), dtype=np.double)\n",
    "    \n",
    "    for i in range(h_size):\n",
    "        for j in range(h_size):\n",
    "            for k in range(sites):\n",
    "                Matrix[i][j] = \\\n",
    "                Matrix[i][j] +\\\n",
    "                contract_states(basis[i], (apply_creator((apply_annahilator(basis[j], (k+2)%sites)), (k+1)%sites)))\n",
    "                \n",
    "    for i in range(h_size):\n",
    "        free_bosons(basis[i])\n",
    "    free(basis)\n",
    "    return Matrix\n",
    "\n",
    "    \n",
    "    \n",
    "\n",
    "    \n",
    "\n",
    "cdef int state_size = 4\n",
    "cdef bstate test1 = create_bosons(\"2100\", state_size)\n",
    "\n",
    "\n",
    "print_state(test1)\n",
    "\n",
    "\n",
    "\n",
    "\n",
    "cdef bstate ann = apply_annahilator(test1, 4)\n",
    "print_state(ann)\n",
    "\n",
    "\n",
    "\n",
    "\n",
    "\n",
    "free_bosons(test1)\n"
   ]
  },
  {
   "cell_type": "code",
   "execution_count": 4,
   "id": "b3f355de",
   "metadata": {},
   "outputs": [],
   "source": [
    "import matplotlib.pyplot as plt"
   ]
  },
  {
   "cell_type": "code",
   "execution_count": 6,
   "id": "626adbdb",
   "metadata": {
    "scrolled": false
   },
   "outputs": [
    {
     "data": {
      "text/plain": [
       "<matplotlib.image.AxesImage at 0x1c9b95054b0>"
      ]
     },
     "execution_count": 6,
     "metadata": {},
     "output_type": "execute_result"
    },
    {
     "data": {
      "image/png": "[encoded data removed]",
      "text/plain": [
       "<Figure size 640x480 with 1 Axes>"
      ]
     },
     "metadata": {},
     "output_type": "display_data"
    }
   ],
   "source": [
    "ham = no_interaction_boson_gas(3, 4, 1)\n",
    "\n",
    "plt.imshow(ham)"
   ]
  },
  {
   "cell_type": "code",
   "execution_count": null,
   "id": "4ea0bb57",
   "metadata": {},
   "outputs": [],
   "source": []
  },
  {
   "cell_type": "markdown",
   "id": "4e45d38a",
   "metadata": {},
   "source": [
    "# Cell below for fermions\n",
    "## Progress in te fermions basis is slow. The bosons Code cell further down is more complete. It uses mostly abstraction with structs while the fermionic cell tried (unsuccessfully still) to use the more explicit vector representations. Problems still lie in the coding aspect"
   ]
  },
  {
   "cell_type": "code",
   "execution_count": null,
   "id": "6544dded",
   "metadata": {
    "scrolled": true
   },
   "outputs": [],
   "source": [
    "%%cython\n",
    "cimport cython\n",
    "from libc.stdlib cimport malloc, free\n",
    "from cython cimport sizeof\n",
    "#import numpy as np\n",
    "#cimport numpy as np\n",
    "\n",
    "\n",
    "\n",
    "ctypedef struct f_state:\n",
    "    int* state\n",
    "    int size\n",
    "\n",
    "cdef void free_fermions(f_state fstate) nogil:\n",
    "    free(fstate.state)\n",
    "\n",
    "@cython.boundscheck(False)\n",
    "@cython.wraparound(False)\n",
    "cdef f_state create_fermions(str state, int space_size):\n",
    "    cdef int* state_array = <int*>malloc(space_size*sizeof(int))\n",
    "    if state_array is NULL:\n",
    "        raise MemoryError(\"Failed to allocate memory for state_array\")\n",
    "    \n",
    "    for i in range(space_size):\n",
    "        if state[i] not in ('0', '1'):\n",
    "            raise ValueError(\"spinless fermion states can only have 1 occupation or none 0\")\n",
    "        state_array[i] = <int>state[i]-48 #minus 48 because of ascii encoding from str to int. 0 is 48 in ascii. 1 is 49\n",
    "    cdef f_state fstate\n",
    "    fstate.state = state_array\n",
    "    fstate.size = space_size\n",
    "    return fstate\n",
    "\n",
    "\n",
    "@cython.boundscheck(False)\n",
    "@cython.wraparound(False)\n",
    "cdef int* create_explicit_fermions(f_state in_state):\n",
    "    cdef int total_size = 2**in_state.size\n",
    "    cdef int tmp_dimension\n",
    "    cdef int index\n",
    "    if in_state.state[0] == 0:\n",
    "        index = 0\n",
    "    elif in_state.state[0] == 1:\n",
    "        index = 1\n",
    "    if (in_state.size > 1):\n",
    "        for i in range(in_state.size):\n",
    "            tmp_dimension = 2**(i+1)\n",
    "            if (in_state.state[i+1] == 0):\n",
    "                index = index\n",
    "            elif (in_state.state[i+1] == 1):\n",
    "                index = index + tmp_dimension\n",
    "    cdef int* result = <int*>malloc(total_size*sizeof(int))\n",
    "    for i in range(total_size):\n",
    "        result[i] = 0\n",
    "    result[index] = 1\n",
    "    return result\n",
    "\n",
    "    \n",
    "\n",
    "@cython.boundscheck(False)\n",
    "@cython.wraparound(False)\n",
    "cdef int* apply_creator(int k, f_state ket):\n",
    "    cdef f_state tmp_ket = ket\n",
    "    cdef int* tmp_ket_explicit\n",
    "    cdef int const1 = (1-ket.state[k-1])\n",
    "    cdef int i,j\n",
    "    for i in range(k-1):\n",
    "        if ket.state[i] == 1:\n",
    "            const1 = -const1\n",
    "    tmp_ket.state[k] = 1\n",
    "    tmp_ket_explicit = create_explicit_fermions(tmp_ket)\n",
    "    for j in range(2**tmp_ket.size):\n",
    "        tmp_ket_explicit[j] = const1*tmp_ket_explicit[j]\n",
    "    return tmp_ket_explicit\n",
    "    \n",
    "        \n",
    "    \n",
    "\n",
    "\n",
    "\n",
    "\n",
    "\n",
    "#test unit 2\n",
    "\n",
    "cdef str fermions = \"1110\"\n",
    "cdef int fsize = len(fermions)\n",
    "\n",
    "print(\"\\nthe state in dirac notation\")\n",
    "cdef f_state fermion_state = create_fermions(fermions, fsize)\n",
    "for i in range(fsize):\n",
    "    print(fermion_state.state[i], end=\" \")\n",
    "\n",
    "print(\"\\nthe state in an explicit Fock space vector\\n\")\n",
    "cdef int* fermion_vector = create_explicit_fermions(fermion_state)\n",
    "for i in range(2**fsize):\n",
    "    print(fermion_vector[i])\n",
    "\n",
    "    \n",
    "print(\"\\nNow we want to apply the creator to our 1110 state and get the 1111 state out\\n\")\n",
    "cdef str fermions2 = \"1111\"\n",
    "cdef int fsize2 = len(fermions2)\n",
    "cdef f_state fermion2_state = create_fermions(fermions2, fsize2)\n",
    "\n",
    "cdef int* fermion2_vector = apply_creator(4, fermion_state)\n",
    "print(\"\\nafter application, the explicit vector looks like this\\n\")\n",
    "for i in range(2**fsize):\n",
    "    print(fermion2_vector[i])\n",
    "\n",
    "    \n",
    "print(\"\\nlet's construct the vector explicitly from the state\\n\")\n",
    "cdef int* proof = create_explicit_fermions(fermion2_state)\n",
    "for i in range(2**fsize):\n",
    "    print(proof[i])\n",
    "free_fermions(fermion_state)\n",
    "free(fermion_vector)\n",
    "free_fermions(fermion2_state)\n",
    "free(fermion2_vector)\n",
    "free(proof)\n",
    "\n",
    "\n"
   ]
  },
  {
   "cell_type": "code",
   "execution_count": null,
   "id": "b88480fa",
   "metadata": {
    "scrolled": false
   },
   "outputs": [],
   "source": []
  },
  {
   "cell_type": "code",
   "execution_count": null,
   "id": "a6cac7da",
   "metadata": {},
   "outputs": [],
   "source": []
  },
  {
   "cell_type": "code",
   "execution_count": null,
   "id": "b821749e",
   "metadata": {},
   "outputs": [],
   "source": []
  },
  {
   "cell_type": "code",
   "execution_count": null,
   "id": "55d66a9a",
   "metadata": {},
   "outputs": [],
   "source": []
  },
  {
   "cell_type": "code",
   "execution_count": null,
   "id": "1a947ed8",
   "metadata": {
    "scrolled": true
   },
   "outputs": [],
   "source": []
  },
  {
   "cell_type": "code",
   "execution_count": null,
   "id": "45a1dde9",
   "metadata": {},
   "outputs": [],
   "source": []
  },
  {
   "cell_type": "code",
   "execution_count": null,
   "id": "e71d91c2",
   "metadata": {},
   "outputs": [],
   "source": []
  },
  {
   "cell_type": "code",
   "execution_count": null,
   "id": "296ff784",
   "metadata": {},
   "outputs": [],
   "source": []
  }
 ],
 "metadata": {
  "kernelspec": {
   "display_name": "Python 3 (ipykernel)",
   "language": "python",
   "name": "python3"
  },
  "language_info": {
   "codemirror_mode": {
    "name": "ipython",
    "version": 3
   },
   "file_extension": ".py",
   "mimetype": "text/x-python",
   "name": "python",
   "nbconvert_exporter": "python",
   "pygments_lexer": "ipython3",
   "version": "3.10.8"
  }
 },
 "nbformat": 4,
 "nbformat_minor": 5
}
